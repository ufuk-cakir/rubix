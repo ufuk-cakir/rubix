{
 "cells": [
  {
   "cell_type": "code",
   "execution_count": null,
   "metadata": {},
   "outputs": [],
   "source": [
    "# NBVAL_SKIP\n",
    "import os\n",
    "os.environ['SPS_HOME'] = '/Users/annalena/Documents/GitHub/fsps'\n",
    "#os.environ['SPS_HOME'] = '/export/home/aschaibl/fsps'\n",
    "#os.environ['SPS_HOME'] = '/home/annalena/sps_fsps'"
   ]
  },
  {
   "cell_type": "markdown",
   "metadata": {},
   "source": [
    "# Bruzual&Charlot"
   ]
  },
  {
   "cell_type": "code",
   "execution_count": null,
   "metadata": {},
   "outputs": [],
   "source": [
    "# NBVAL_SKIP\n",
    "from rubix.spectra.ssp.grid import HDF5SSPGrid\n",
    "from rubix.utils import get_config\n",
    "\n",
    "config = get_config(\"../rubix/config/rubix_config.yml\")\n",
    "\n",
    "ssp_bc = HDF5SSPGrid.from_file(config[\"ssp\"][\"templates\"][\"BruzualCharlot2003\"], file_location=\"../rubix/spectra/ssp/templates\")"
   ]
  },
  {
   "cell_type": "code",
   "execution_count": null,
   "metadata": {},
   "outputs": [],
   "source": [
    "# NBVAL_SKIP\n",
    "ssp_bc.wavelength"
   ]
  },
  {
   "cell_type": "code",
   "execution_count": null,
   "metadata": {},
   "outputs": [],
   "source": [
    "# NBVAL_SKIP\n",
    "import matplotlib.pyplot as plt\n",
    "\n",
    "# NBVAL_SKIP\n",
    "for i in range(len(ssp_bc.metallicity)):\n",
    "    plt.plot(ssp_bc.wavelength,ssp_bc.flux[i][0], label=r'Z=%0.3f'%ssp_bc.metallicity[i])\n",
    "#plt.xlabel(r'$\\lambda$ [%s]'%config[\"fields\"][\"wavelength\"][\"units\"])\n",
    "#plt.ylabel(r'Flux [%s]'%config[\"fields\"][\"flux\"][\"units\"])\n",
    "#plt.yscale(\"log\")\n",
    "plt.xlim(0,10000)\n",
    "plt.legend()"
   ]
  },
  {
   "cell_type": "code",
   "execution_count": null,
   "metadata": {},
   "outputs": [],
   "source": [
    "# NBVAL_SKIP\n",
    "import numpy as np\n",
    "ages = np.linspace(0,len(ssp_bc.age),10)\n",
    "for age in ages:\n",
    "    plt.plot(ssp_bc.wavelength,ssp_bc.flux[0][int(age)], label='%.2f'%ssp_bc.age[int(age)])\n",
    "#plt.xlabel(r'$\\lambda$ [%s]'%config[\"fields\"][\"wavelength\"][\"units\"])\n",
    "#plt.ylabel(r'Flux [%s]'%config[\"fields\"][\"flux\"][\"units\"])\n",
    "#plt.yscale(\"log\")\n",
    "plt.xlim(0,5000)\n",
    "plt.legend()"
   ]
  },
  {
   "cell_type": "markdown",
   "metadata": {},
   "source": [
    "# MaStar"
   ]
  },
  {
   "cell_type": "code",
   "execution_count": null,
   "metadata": {},
   "outputs": [],
   "source": [
    "# NBVAL_SKIP\n",
    "from rubix.spectra.ssp.grid import pyPipe3DSSPGrid\n",
    "ssp_mastar = pyPipe3DSSPGrid.from_file(config[\"ssp\"][\"templates\"][\"Mastar_CB19_SLOG_1_5\"], file_location=\"../rubix/spectra/ssp/templates\")"
   ]
  },
  {
   "cell_type": "code",
   "execution_count": null,
   "metadata": {},
   "outputs": [],
   "source": [
    "# NBVAL_SKIP\n",
    "for i in range(len(ssp_mastar.metallicity)):\n",
    "    plt.plot(ssp_mastar.wavelength,ssp_mastar.flux[i][0], label=r'Z=%0.3f'%ssp_mastar.metallicity[i])\n",
    "#plt.xlabel(r'$\\lambda$ [%s]'%config[\"fields\"][\"wavelength\"][\"units\"])\n",
    "#plt.ylabel(r'Flux [%s]'%config[\"fields\"][\"flux\"][\"units\"])\n",
    "#plt.yscale(\"log\")\n",
    "plt.xlim(2000,10000)\n",
    "plt.legend()"
   ]
  },
  {
   "cell_type": "code",
   "execution_count": null,
   "metadata": {},
   "outputs": [],
   "source": [
    "# NBVAL_SKIP\n",
    "ages = np.linspace(0,len(ssp_mastar.age),10)\n",
    "for age in ages:\n",
    "    plt.plot(ssp_mastar.wavelength,ssp_mastar.flux[0][int(age)], label='%.2f'%(ssp_mastar.age[int(age)]))\n",
    "#plt.xlabel(r'$\\lambda$ [%s]'%config[\"fields\"][\"wavelength\"][\"units\"])\n",
    "#plt.ylabel(r'Flux [%s]'%config[\"fields\"][\"flux\"][\"units\"])\n",
    "#plt.yscale(\"log\")\n",
    "plt.xlim(2000,5000)\n",
    "plt.legend()"
   ]
  },
  {
   "cell_type": "code",
   "execution_count": null,
   "metadata": {},
   "outputs": [],
   "source": [
    "# NBVAL_SKIP\n",
    "plt.plot(ssp_mastar.wavelength*1.1,ssp_mastar.flux[0][-3], label=r'Z=%0.3f, age=%0.2f'%(ssp_mastar.metallicity[0],ssp_mastar.age[-3]))\n",
    "plt.vlines(6563*1.1,0,0.002, colors='r', label=r'H$\\alpha$*0.1')\n",
    "plt.xlim(7150,7350)\n",
    "plt.ylim(0,0.002)\n",
    "plt.legend()"
   ]
  },
  {
   "cell_type": "markdown",
   "metadata": {},
   "source": [
    "# FSPS"
   ]
  },
  {
   "cell_type": "code",
   "execution_count": null,
   "metadata": {},
   "outputs": [],
   "source": [
    "# NBVAL_SKIP\n",
    "from rubix.spectra.ssp.factory import get_ssp_template\n",
    "ssp_fsps = get_ssp_template(\"FSPS\")"
   ]
  },
  {
   "cell_type": "code",
   "execution_count": null,
   "metadata": {},
   "outputs": [],
   "source": [
    "# NBVAL_SKIP\n",
    "ssp_fsps.wavelength"
   ]
  },
  {
   "cell_type": "code",
   "execution_count": null,
   "metadata": {},
   "outputs": [],
   "source": [
    "# NBVAL_SKIP\n",
    "for i in range(len(ssp_fsps.metallicity)):\n",
    "    plt.plot(ssp_fsps.wavelength,ssp_fsps.flux[i][0], label=r'Z=%0.3f'%ssp_fsps.metallicity[i])\n",
    "#plt.xlabel(r'$\\lambda$ [%s]'%config[\"fields\"][\"wavelength\"][\"units\"])\n",
    "#plt.ylabel(r'Flux [%s]'%config[\"fields\"][\"flux\"][\"units\"])\n",
    "#plt.yscale(\"log\")\n",
    "plt.xlim(2000,10000)\n",
    "plt.legend()"
   ]
  },
  {
   "cell_type": "code",
   "execution_count": null,
   "metadata": {},
   "outputs": [],
   "source": [
    "# NBVAL_SKIP\n",
    "metallicity = 1.4e-4\n",
    "metallicity_index = 1\n",
    "age = 10\n",
    "age_index = 100"
   ]
  },
  {
   "cell_type": "code",
   "execution_count": null,
   "metadata": {},
   "outputs": [],
   "source": [
    "# NBVAL_SKIP\n",
    "ssp_fsps.wavelength"
   ]
  },
  {
   "cell_type": "code",
   "execution_count": null,
   "metadata": {},
   "outputs": [],
   "source": [
    "# NBVAL_SKIP\n",
    "plt.plot(ssp_fsps.wavelength,ssp_fsps.flux[metallicity_index][age_index], label=r'Z=%0.3f, age=%0.2f'%(metallicity,ssp_fsps.age[age_index]))\n",
    "plt.vlines(6563,0,5e-5, colors='r', label=r'H$\\alpha$')\n",
    "plt.xlim(6500,6600)\n",
    "plt.legend()"
   ]
  },
  {
   "cell_type": "code",
   "execution_count": null,
   "metadata": {},
   "outputs": [],
   "source": [
    "# NBVAL_SKIP\n",
    "ages = np.linspace(0,len(ssp_fsps.age),10)\n",
    "for age in ages:\n",
    "    plt.plot(ssp_fsps.wavelength,ssp_fsps.flux[0][int(age)], label='%.2f'%(ssp_fsps.age[int(age)]))\n",
    "#plt.xlabel(r'$\\lambda$ [%s]'%config[\"fields\"][\"wavelength\"][\"units\"])\n",
    "#plt.ylabel(r'Flux [%s]'%config[\"fields\"][\"flux\"][\"units\"])\n",
    "#plt.yscale(\"log\")\n",
    "plt.xlim(2000,5000)\n",
    "plt.legend()"
   ]
  },
  {
   "cell_type": "markdown",
   "metadata": {},
   "source": [
    "# Comparison of the SSP templates"
   ]
  },
  {
   "cell_type": "code",
   "execution_count": null,
   "metadata": {},
   "outputs": [],
   "source": [
    "# NBVAL_SKIP\n",
    "print(ssp_bc.age[180])\n",
    "print(ssp_mastar.age[36])\n",
    "print(ssp_fsps.age[100])"
   ]
  },
  {
   "cell_type": "code",
   "execution_count": null,
   "metadata": {},
   "outputs": [],
   "source": [
    "# NBVAL_SKIP\n",
    "print(ssp_bc.metallicity[3])\n",
    "print(ssp_mastar.metallicity[3])\n",
    "print(ssp_fsps.metallicity[8])"
   ]
  },
  {
   "cell_type": "code",
   "execution_count": null,
   "metadata": {},
   "outputs": [],
   "source": [
    "# NBVAL_SKIP\n",
    "plt.plot(ssp_bc.wavelength,ssp_bc.flux[3][180], label=f'bc, metallicity={ssp_bc.metallicity[3]:.3f}, age={ssp_bc.age[180]:.3f}')\n",
    "#plt.plot(ssp_mastar.wavelength,ssp_mastar.flux[3][36]/(ssp_mastar.wavelength**2)*299792458, label='mastar')\n",
    "plt.plot(ssp_fsps.wavelength,ssp_fsps.flux[8][100], label=f'fsps, metallicity={ssp_fsps.metallicity[8]:.3f}, age={ssp_fsps.age[100]:.3f}')\n",
    "\n",
    "#plt.plot(ssp_bc.wavelength,ssp_bc.flux[3][0], label='bc 0')\n",
    "#plt.plot(ssp_fsps.wavelength,ssp_fsps.flux[8][0], label='fsps 0')\n",
    "\n",
    "#plt.xlim(1000, 20000)\n",
    "plt.xlim(4700.15, 9351.4)\n",
    "#plt.ylim(0, 0.01)\n",
    "plt.legend()\n",
    "plt.savefig(\"./output/ssp_comparison_bc_fsps_10_008_large.png\")"
   ]
  },
  {
   "cell_type": "code",
   "execution_count": null,
   "metadata": {},
   "outputs": [],
   "source": [
    "# NBVAL_SKIP\n",
    "import numpy as np\n",
    "\n",
    "def find_closest_index(array, value):\n",
    "    array = np.asarray(array)\n",
    "    index = (np.abs(array - value)).argmin()\n",
    "    return index"
   ]
  },
  {
   "cell_type": "code",
   "execution_count": null,
   "metadata": {},
   "outputs": [],
   "source": [
    "# NBVAL_SKIP\n",
    "ssp_bc.metallicity"
   ]
  },
  {
   "cell_type": "code",
   "execution_count": null,
   "metadata": {},
   "outputs": [],
   "source": [
    "# NBVAL_SKIP\n",
    "metallicity = 0.05\n",
    "age = 8.0\n",
    "\n",
    "index_metallicity_bc = find_closest_index(ssp_bc.metallicity, metallicity)\n",
    "index_age_bc = find_closest_index(ssp_bc.age, age)\n",
    "index_metallicity_fsps = find_closest_index(ssp_fsps.metallicity, metallicity)\n",
    "index_age_fsps = find_closest_index(ssp_fsps.age, age)\n",
    "\n",
    "plt.plot(ssp_bc.wavelength,ssp_bc.flux[index_metallicity_bc][index_age_bc], label=f'bc, metallicity={ssp_bc.metallicity[index_metallicity_bc]:.3f}, age={ssp_bc.age[index_age_bc]:.3f}')    \n",
    "plt.plot(ssp_fsps.wavelength,ssp_fsps.flux[index_metallicity_fsps][index_age_fsps], label=f'fsps, metallicity={ssp_fsps.metallicity[index_metallicity_fsps]:.3f}, age={ssp_fsps.age[index_age_fsps]:.3f}')\n",
    "\n",
    "#plt.xlim(4700.15, 9351.4)\n",
    "plt.xlim(1000, 20000)\n",
    "plt.ylim(0, 0.002)\n",
    "plt.legend()\n",
    "plt.savefig(\"./output/ssp_comparison_bc_fsps_8_05.png\")"
   ]
  },
  {
   "cell_type": "code",
   "execution_count": null,
   "metadata": {},
   "outputs": [],
   "source": [
    "# NBVAL_SKIP\n",
    "import matplotlib.pyplot as plt\n",
    "\n",
    "# Define the metallicity and age values for the grid\n",
    "metallicities = [1e-4, 8e-3, 5e-2]\n",
    "ages = [0, 8, 10]\n",
    "\n",
    "# Create a figure with a 3x3 grid of subplots\n",
    "fig, axes = plt.subplots(3, 3, figsize=(18, 12))\n",
    "\n",
    "# Loop over the grid and plot the data\n",
    "for i, metallicity in enumerate(metallicities):\n",
    "    for j, age in enumerate(ages):\n",
    "        ax = axes[i, j]\n",
    "        \n",
    "        # Find the closest indices for the current metallicity and age\n",
    "        index_metallicity_bc = find_closest_index(ssp_bc.metallicity, metallicity)\n",
    "        index_age_bc = find_closest_index(ssp_bc.age, age)\n",
    "        index_metallicity_fsps = find_closest_index(ssp_fsps.metallicity, metallicity)\n",
    "        index_age_fsps = find_closest_index(ssp_fsps.age, age)\n",
    "        index_metallicity_mastar = find_closest_index(ssp_mastar.metallicity, metallicity)\n",
    "        index_age_mastar = find_closest_index(ssp_mastar.age, age)\n",
    "        \n",
    "        # Plot the data for the current metallicity and age\n",
    "        ax.plot(ssp_bc.wavelength, ssp_bc.flux[index_metallicity_bc][index_age_bc], label=f'bc, metallicity={ssp_bc.metallicity[index_metallicity_bc]:.3f}, age={ssp_bc.age[index_age_bc]:.3f}')    \n",
    "        ax.plot(ssp_fsps.wavelength, ssp_fsps.flux[index_metallicity_fsps][index_age_fsps], label=f'fsps, metallicity={ssp_fsps.metallicity[index_metallicity_fsps]:.3f}, age={ssp_fsps.age[index_age_fsps]:.3f}')\n",
    "        ax.plot(ssp_mastar.wavelength, ssp_mastar.flux[index_metallicity_mastar][index_age_mastar], label=f'mastar, metallicity={ssp_mastar.metallicity[index_metallicity_mastar]:.3f}, age={ssp_mastar.age[index_age_mastar]:.3f}')\n",
    "        \n",
    "        # Set plot limits and labels\n",
    "        ax.set_xlim(1000, 20000)\n",
    "        if j == 2 and i == 2:\n",
    "            ax.set_ylim(0, 0.00003)\n",
    "        elif j == 2 and i == 1:\n",
    "            ax.set_ylim(0, 0.0003)\n",
    "        elif j == 2:\n",
    "            ax.set_ylim(0, 0.00075)\n",
    "        else:\n",
    "            ax.set_ylim(0, 0.002)\n",
    "        if i == 2:\n",
    "            ax.set_xlabel('Wavelength [Å]')\n",
    "        if j == 0:\n",
    "            ax.set_ylabel('L_sun/Angstrom/solarmass')\n",
    "        ax.legend(loc='upper right')\n",
    "\n",
    "# Adjust layout and save the figure\n",
    "plt.tight_layout()\n",
    "plt.savefig(\"./output/ssp_comparison_grid.png\")\n",
    "plt.show()"
   ]
  }
 ],
 "metadata": {
  "kernelspec": {
   "display_name": "rubix",
   "language": "python",
   "name": "python3"
  },
  "language_info": {
   "codemirror_mode": {
    "name": "ipython",
    "version": 3
   },
   "file_extension": ".py",
   "mimetype": "text/x-python",
   "name": "python",
   "nbconvert_exporter": "python",
   "pygments_lexer": "ipython3",
   "version": "3.12.8"
  }
 },
 "nbformat": 4,
 "nbformat_minor": 2
}
