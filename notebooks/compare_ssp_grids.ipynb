{
 "cells": [
  {
   "cell_type": "code",
   "execution_count": null,
   "metadata": {},
   "outputs": [],
   "source": [
    "# NBVAL_SKIP\n",
    "import os\n",
    "#os.environ['SPS_HOME'] = '/Users/annalena/Documents/GitHub/fsps'\n",
    "#os.environ['SPS_HOME'] = '/export/home/aschaibl/fsps'\n",
    "os.environ['SPS_HOME'] = '/home/annalena/sps_fsps'"
   ]
  },
  {
   "cell_type": "code",
   "execution_count": null,
   "metadata": {},
   "outputs": [],
   "source": [
    "# NBVAL_SKIP\n",
    "from rubix.spectra.ssp.grid import HDF5SSPGrid\n",
    "from rubix.utils import get_config\n",
    "\n",
    "config = get_config(\"../rubix/config/rubix_config.yml\")\n",
    "\n",
    "ssp_bc = HDF5SSPGrid.from_file(config[\"ssp\"][\"templates\"][\"BruzualCharlot2003\"], file_location=\"../rubix/spectra/ssp/templates\")"
   ]
  },
  {
   "cell_type": "code",
   "execution_count": null,
   "metadata": {},
   "outputs": [],
   "source": [
    "# NBVAL_SKIP\n",
    "from rubix.spectra.ssp.factory import get_ssp_template\n",
    "ssp_fsps = get_ssp_template(\"FSPS\")"
   ]
  },
  {
   "cell_type": "code",
   "execution_count": null,
   "metadata": {},
   "outputs": [],
   "source": [
    "# NBVAL_SKIP\n",
    "from rubix.spectra.ssp.grid import pyPipe3DSSPGrid\n",
    "ssp_mastar = pyPipe3DSSPGrid.from_file(config[\"ssp\"][\"templates\"][\"Mastar_CB19_SLOG_1_5\"], file_location=\"../rubix/spectra/ssp/templates\")"
   ]
  },
  {
   "cell_type": "code",
   "execution_count": null,
   "metadata": {},
   "outputs": [],
   "source": [
    "# NBVAL_SKIP\n",
    "import matplotlib.pyplot as plt\n",
    "\n",
    "# Assuming ssp_bc, ssp_fsps, and ssp_mastar are defined\n",
    "templates = [ssp_bc, ssp_fsps, ssp_mastar]\n",
    "template_names = ['Bruzual&Charlot', 'FSPS', 'MaStar']\n",
    "\n",
    "# Create a figure with a 1x3 grid of subplots\n",
    "fig, axes = plt.subplots(1, 3, figsize=(12, 6))\n",
    "\n",
    "for i, (template, name) in enumerate(zip(templates, template_names)):\n",
    "    metallicity_values = template.metallicity\n",
    "    age_values = template.age\n",
    "    wavelength = template.wavelength\n",
    "    flux = template.flux\n",
    "\n",
    "    # Plot: Vertical and horizontal lines\n",
    "    ax = axes[i]\n",
    "    for metallicity in metallicity_values:\n",
    "        ax.vlines(metallicity, min(age_values) - 0.1, max(age_values) + 0.1, colors='g', linestyles='-')\n",
    "    for age in age_values:#[::5]:\n",
    "        ax.hlines(age, min(metallicity_values) - 0.001, max(metallicity_values) + 0.001, colors='b', linestyles='-', linewidth=0.3)\n",
    "   \n",
    "    ax.set_xlabel('Metallicity')\n",
    "    ax.set_ylabel('Age')\n",
    "    ax.set_title(f'{name} SSP grid')\n",
    "    ax.set_xlim(min(metallicity_values) - 0.001, max(metallicity_values) + 0.001)\n",
    "    ax.set_ylim(min(age_values) - 0.1, max(age_values) + 0.1)\n",
    "    #ax.grid(True)\n",
    "\n",
    "# Adjust layout and show the figure\n",
    "plt.tight_layout()\n",
    "plt.savefig(\"./output/ssp_grids.png\")\n",
    "plt.show()"
   ]
  }
 ],
 "metadata": {
  "kernelspec": {
   "display_name": "rubix",
   "language": "python",
   "name": "python3"
  },
  "language_info": {
   "codemirror_mode": {
    "name": "ipython",
    "version": 3
   },
   "file_extension": ".py",
   "mimetype": "text/x-python",
   "name": "python",
   "nbconvert_exporter": "python",
   "pygments_lexer": "ipython3",
   "version": "3.10.13"
  }
 },
 "nbformat": 4,
 "nbformat_minor": 2
}
